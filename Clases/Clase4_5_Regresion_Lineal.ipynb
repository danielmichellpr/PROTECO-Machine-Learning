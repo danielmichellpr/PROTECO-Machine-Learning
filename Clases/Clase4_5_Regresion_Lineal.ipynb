{
 "cells": [
  {
   "cell_type": "markdown",
   "metadata": {},
   "source": [
    "# Clase 4-5 Regresion Lineal"
   ]
  },
  {
   "cell_type": "code",
   "execution_count": 1,
   "metadata": {},
   "outputs": [],
   "source": [
    "import pandas as pd\n",
    "import numpy as np\n",
    "import matplotlib.pyplot as plt"
   ]
  },
  {
   "cell_type": "code",
   "execution_count": 2,
   "metadata": {},
   "outputs": [
    {
     "data": {
      "text/html": [
       "<div>\n",
       "<style scoped>\n",
       "    .dataframe tbody tr th:only-of-type {\n",
       "        vertical-align: middle;\n",
       "    }\n",
       "\n",
       "    .dataframe tbody tr th {\n",
       "        vertical-align: top;\n",
       "    }\n",
       "\n",
       "    .dataframe thead th {\n",
       "        text-align: right;\n",
       "    }\n",
       "</style>\n",
       "<table border=\"1\" class=\"dataframe\">\n",
       "  <thead>\n",
       "    <tr style=\"text-align: right;\">\n",
       "      <th></th>\n",
       "      <th>poblacion</th>\n",
       "      <th>beneficio</th>\n",
       "    </tr>\n",
       "  </thead>\n",
       "  <tbody>\n",
       "    <tr>\n",
       "      <th>0</th>\n",
       "      <td>6.1101</td>\n",
       "      <td>17.5920</td>\n",
       "    </tr>\n",
       "    <tr>\n",
       "      <th>1</th>\n",
       "      <td>5.5277</td>\n",
       "      <td>9.1302</td>\n",
       "    </tr>\n",
       "    <tr>\n",
       "      <th>2</th>\n",
       "      <td>8.5186</td>\n",
       "      <td>13.6620</td>\n",
       "    </tr>\n",
       "    <tr>\n",
       "      <th>3</th>\n",
       "      <td>7.0032</td>\n",
       "      <td>11.8540</td>\n",
       "    </tr>\n",
       "    <tr>\n",
       "      <th>4</th>\n",
       "      <td>5.8598</td>\n",
       "      <td>6.8233</td>\n",
       "    </tr>\n",
       "  </tbody>\n",
       "</table>\n",
       "</div>"
      ],
      "text/plain": [
       "   poblacion  beneficio\n",
       "0     6.1101    17.5920\n",
       "1     5.5277     9.1302\n",
       "2     8.5186    13.6620\n",
       "3     7.0032    11.8540\n",
       "4     5.8598     6.8233"
      ]
     },
     "execution_count": 2,
     "metadata": {},
     "output_type": "execute_result"
    }
   ],
   "source": [
    "url = ('https://raw.githubusercontent.com/adrishg/Intersemestral_MachineLearning_Proteco2020/master/DataSets/regresionLineal.csv')\n",
    "data = pd.read_csv(url)\n",
    "data.head()"
   ]
  },
  {
   "cell_type": "code",
   "execution_count": 3,
   "metadata": {},
   "outputs": [
    {
     "data": {
      "text/html": [
       "<div>\n",
       "<style scoped>\n",
       "    .dataframe tbody tr th:only-of-type {\n",
       "        vertical-align: middle;\n",
       "    }\n",
       "\n",
       "    .dataframe tbody tr th {\n",
       "        vertical-align: top;\n",
       "    }\n",
       "\n",
       "    .dataframe thead th {\n",
       "        text-align: right;\n",
       "    }\n",
       "</style>\n",
       "<table border=\"1\" class=\"dataframe\">\n",
       "  <thead>\n",
       "    <tr style=\"text-align: right;\">\n",
       "      <th></th>\n",
       "      <th>poblacion</th>\n",
       "      <th>beneficio</th>\n",
       "    </tr>\n",
       "  </thead>\n",
       "  <tbody>\n",
       "    <tr>\n",
       "      <th>count</th>\n",
       "      <td>97.000000</td>\n",
       "      <td>97.000000</td>\n",
       "    </tr>\n",
       "    <tr>\n",
       "      <th>mean</th>\n",
       "      <td>8.159800</td>\n",
       "      <td>5.839135</td>\n",
       "    </tr>\n",
       "    <tr>\n",
       "      <th>std</th>\n",
       "      <td>3.869884</td>\n",
       "      <td>5.510262</td>\n",
       "    </tr>\n",
       "    <tr>\n",
       "      <th>min</th>\n",
       "      <td>5.026900</td>\n",
       "      <td>-2.680700</td>\n",
       "    </tr>\n",
       "    <tr>\n",
       "      <th>25%</th>\n",
       "      <td>5.707700</td>\n",
       "      <td>1.986900</td>\n",
       "    </tr>\n",
       "    <tr>\n",
       "      <th>50%</th>\n",
       "      <td>6.589400</td>\n",
       "      <td>4.562300</td>\n",
       "    </tr>\n",
       "    <tr>\n",
       "      <th>75%</th>\n",
       "      <td>8.578100</td>\n",
       "      <td>7.046700</td>\n",
       "    </tr>\n",
       "    <tr>\n",
       "      <th>max</th>\n",
       "      <td>22.203000</td>\n",
       "      <td>24.147000</td>\n",
       "    </tr>\n",
       "  </tbody>\n",
       "</table>\n",
       "</div>"
      ],
      "text/plain": [
       "       poblacion  beneficio\n",
       "count  97.000000  97.000000\n",
       "mean    8.159800   5.839135\n",
       "std     3.869884   5.510262\n",
       "min     5.026900  -2.680700\n",
       "25%     5.707700   1.986900\n",
       "50%     6.589400   4.562300\n",
       "75%     8.578100   7.046700\n",
       "max    22.203000  24.147000"
      ]
     },
     "execution_count": 3,
     "metadata": {},
     "output_type": "execute_result"
    }
   ],
   "source": [
    "data.describe() #Nos las cuenta, nos describe todo, percentiles son los porcentajes"
   ]
  },
  {
   "cell_type": "code",
   "execution_count": 4,
   "metadata": {},
   "outputs": [
    {
     "name": "stdout",
     "output_type": "stream",
     "text": [
      "<class 'pandas.core.frame.DataFrame'>\n",
      "RangeIndex: 97 entries, 0 to 96\n",
      "Data columns (total 2 columns):\n",
      " #   Column     Non-Null Count  Dtype  \n",
      "---  ------     --------------  -----  \n",
      " 0   poblacion  97 non-null     float64\n",
      " 1   beneficio  97 non-null     float64\n",
      "dtypes: float64(2)\n",
      "memory usage: 1.6 KB\n"
     ]
    }
   ],
   "source": [
    "data.info()"
   ]
  },
  {
   "cell_type": "code",
   "execution_count": 5,
   "metadata": {
    "scrolled": true
   },
   "outputs": [
    {
     "data": {
      "image/png": "[encoded data removed]",
      "text/plain": [
       "<Figure size 432x288 with 1 Axes>"
      ]
     },
     "metadata": {
      "needs_background": "light"
     },
     "output_type": "display_data"
    }
   ],
   "source": [
    "#Gráfica para visualizar los datos\n",
    "X = data.poblacion.values    #Con esto se forma un vector\n",
    "Y = data.beneficio.values   # \n",
    "plt.scatter(X,Y)\n",
    "plt.xlabel('Población'), plt.ylabel('Beneficio')\n",
    "plt.title('Población vs Beneficio', size=15)\n",
    "plt.show()"
   ]
  },
  {
   "cell_type": "markdown",
   "metadata": {},
   "source": [
    "### 1) Separar los datos de entrenamiento a los de test"
   ]
  },
  {
   "cell_type": "code",
   "execution_count": 6,
   "metadata": {},
   "outputs": [],
   "source": [
    "def separacionDatos(X,Y,tamanhoTest=0.2): #Para el entrenamiento\n",
    "    m = Y.size #Número de datos que tenemos (Puede ser X)\n",
    "    \n",
    "    #Tomo valores para el índice Test, cuantos van a test\n",
    "    testTamanho = int(m*tamanhoTest)  #Por qué no nos puede tomar un valor flotante, son datos\n",
    "    \n",
    "    #Indices para el Test, te regresa los que usamos para test\n",
    "    indicesTest = np.random.choice(m,testTamanho) #Elige aleatoriamente ciertos elementos, de esos m elementos de testTamanho\n",
    "    \n",
    "    #Indices para el entramiento, quito los del test y me quedo con los del entrenamiento\n",
    "    indicesEntrenamiento = np.setdiff1d(np.arange(m),indicesTest)   #Nos hace como una resta de que elementos de una lista  no estan en la segunda lista\n",
    "    \n",
    "    \n",
    "    #Separamos las datos en 4 grupos\n",
    "    return X[indicesTest], Y[indicesTest], X[indicesEntrenamiento], Y[indicesEntrenamiento]"
   ]
  },
  {
   "cell_type": "markdown",
   "metadata": {},
   "source": [
    "### 2) Función de hipótesis"
   ]
  },
  {
   "cell_type": "code",
   "execution_count": 7,
   "metadata": {},
   "outputs": [],
   "source": [
    "def funcionHipotesis(X,theta):\n",
    "    h = X @ theta #@ es un forma de multiplicar vector por vector\n",
    "    return h"
   ]
  },
  {
   "cell_type": "markdown",
   "metadata": {},
   "source": [
    "### 3) Función de Costo"
   ]
  },
  {
   "cell_type": "code",
   "execution_count": 8,
   "metadata": {},
   "outputs": [],
   "source": [
    "def funcionCosto(X,Y,theta): #Que sea convenxa\n",
    "    \n",
    "    h = funcionHipotesis(X,theta) #Nos va a regresar un vector\n",
    "    m = Y.size                  #En este ejemplo es 97\n",
    "    variableDump = h - Y        #Lo que va adentro del parentesis\n",
    "    j = (variableDump @ variableDump)/(2*m)    \n",
    "    return j\n",
    "\n",
    "    \n",
    "    "
   ]
  },
  {
   "cell_type": "markdown",
   "metadata": {},
   "source": [
    "### 4) Función de gradientes de la función de costo"
   ]
  },
  {
   "cell_type": "code",
   "execution_count": 9,
   "metadata": {},
   "outputs": [],
   "source": [
    "def gradienteCostos(X,Y,theta):   #Para saber como es la pendiente en cada punto, para iterar de una manera acertada\n",
    "    m = Y.size\n",
    "    h = funcionHipotesis(X,theta)\n",
    "    dj = ((h-Y)@ X)/m #Derivada de la función de costos\n",
    "    return dj"
   ]
  },
  {
   "cell_type": "markdown",
   "metadata": {},
   "source": [
    "### 5) Gradiente de Descenso"
   ]
  },
  {
   "cell_type": "code",
   "execution_count": 10,
   "metadata": {},
   "outputs": [],
   "source": [
    "def gradienteDescenso(X,Y,alpha,E=0.001): #El error es para saber que tanto se separan las iteraciones, si la iteración ya es menor que el error ya se acepta\n",
    "    m = Y.size\n",
    "    X = np.hstack([np.ones([m,1]),X])  #Es el valor que multiplica a theta 1\n",
    "    n = X.shape[1]\n",
    "    theta = np.zeros([n])     #Lo inicializamos como queramos, con aletorios o ceros\n",
    "    \n",
    "    costoAnterior = funcionCosto(X,Y,theta)  #La función de costo manda a llamar a la función de hipotesis a la vez\n",
    "    theta = theta-alpha*gradienteCostos(X,Y,theta)\n",
    "    costoActual = funcionCosto(X,Y,theta) #Volvemos a tomar la función \n",
    "    \n",
    "    diferenciaCostos = abs(costoActual - costoAnterior) \n",
    "    #if diferenciaCostos == E\n",
    "    numIteraciones = [0,1]\n",
    "    yCostos = [costoAnterior, costoActual]\n",
    "    i = 2\n",
    "    \n",
    "    while diferenciaCostos > E: #Mientras no converga, es decir que la derivada sea diferente de cero\n",
    "        costoAnterior = funcionCosto(X,Y,theta)\n",
    "        theta = theta-alpha*gradienteCostos(X,Y,theta)\n",
    "        costoActual = funcionCosto(X,Y,theta) #Volvemos a tomar la función\n",
    "        \n",
    "        diferenciaCostos = abs(costoActual - costoAnterior) \n",
    "        \n",
    "        numIteraciones.append(i) #Nuestra lista de contadores\n",
    "        yCostos.append(costoActual)\n",
    "        i = i+1\n",
    "        \n",
    "    plt.plot(numIteraciones, yCostos)\n",
    "    plt.title('Función de costo con respecto a las iteraciones')\n",
    "    plt.xlabel('Iteraciones')\n",
    "    plt.ylabel('Costo')\n",
    "    print('El último costo es: ', yCostos[-1])\n",
    "    plt.show()\n",
    "    \n",
    "    return theta"
   ]
  },
  {
   "cell_type": "markdown",
   "metadata": {},
   "source": [
    "### Llamamos a las funciones"
   ]
  },
  {
   "cell_type": "code",
   "execution_count": 11,
   "metadata": {},
   "outputs": [
    {
     "name": "stdout",
     "output_type": "stream",
     "text": [
      "El último costo es:  6.845671327877614\n"
     ]
    },
    {
     "data": {
      "image/png": "[encoded data removed]",
      "text/plain": [
       "<Figure size 432x288 with 1 Axes>"
      ]
     },
     "metadata": {
      "needs_background": "light"
     },
     "output_type": "display_data"
    }
   ],
   "source": [
    "\n",
    "alpha=0.00001\n",
    "X = X.reshape([Y.size,1])  #Si hace falta rellenalo con uno\n",
    "\n",
    "#Separación entre test y training\n",
    "xTest, yTest, xEntrenamiento, yEntrenamiento =separacionDatos(X,Y)\n",
    "theta = gradienteDescenso(xEntrenamiento, yEntrenamiento, alpha)"
   ]
  },
  {
   "cell_type": "code",
   "execution_count": 12,
   "metadata": {},
   "outputs": [
    {
     "data": {
      "image/png": "[encoded data removed]",
      "text/plain": [
       "<Figure size 432x288 with 1 Axes>"
      ]
     },
     "metadata": {
      "needs_background": "light"
     },
     "output_type": "display_data"
    }
   ],
   "source": [
    "#Gráfica para visualizar los datos\n",
    "X = data.poblacion.values    #Con esto se forma un vector\n",
    "Y = data.beneficio.values   # \n",
    "plt.scatter(X,Y)\n",
    "\n",
    "x = np.linspace(4.5,24,)\n",
    "y = theta[0] + theta[1]*x\n",
    "plt.plot(x,y,'r')\n",
    "plt.xlabel('Población'), plt.ylabel('Beneficio')\n",
    "plt.title('Población vs Beneficio', size=15)\n",
    "plt.show()"
   ]
  },
  {
   "cell_type": "code",
   "execution_count": 13,
   "metadata": {},
   "outputs": [
    {
     "name": "stdout",
     "output_type": "stream",
     "text": [
      "El valor en x es: [7.6366]\n",
      "El valor en y es: 4.2959\n",
      "El valor predicho de y es: [5.30020227]\n"
     ]
    }
   ],
   "source": [
    "#Predecir el valor de algun dato en nuestro test Set\n",
    "#Sólo está tomando los valores del test, no los noventa datos \n",
    "print('El valor en x es: ' + format(xTest[15])) \n",
    "print('El valor en y es: ' + format(yTest[15]))\n",
    "yPredicho = theta[0]+theta[1]*xTest[15]\n",
    "print('El valor predicho de y es: ' + format(yPredicho))\n"
   ]
  },
  {
   "cell_type": "code",
   "execution_count": 14,
   "metadata": {},
   "outputs": [
    {
     "data": {
      "image/png": "[encoded data removed]",
      "text/plain": [
       "<Figure size 432x288 with 1 Axes>"
      ]
     },
     "metadata": {
      "needs_background": "light"
     },
     "output_type": "display_data"
    }
   ],
   "source": [
    "#Hacerlo desde sklearn \n",
    "\n",
    "from sklearn.linear_model import LinearRegression\n",
    "\n",
    "X = data['poblacion'].values.reshape(-1,1)\n",
    "Y = data['beneficio'].values.reshape(-1,1)\n",
    "\n",
    "modeloDeRegresion = LinearRegression() #\n",
    "modeloDeRegresion.fit(X,Y) #Aquí lo entrenamos\n",
    "yPredicha = modeloDeRegresion.predict(X) #Aquí vemos si ya salió \n",
    "\n",
    "theta1 = modeloDeRegresion.coef_[0][0]   #Theta cero\n",
    "theta0 = modeloDeRegresion.intercept_[0] #Theta uno\n",
    "\n",
    "plt.scatter(data['poblacion'],data['beneficio'])\n",
    "plt.plot(X,yPredicha, 'r')\n",
    "plt.show()"
   ]
  },
  {
   "cell_type": "code",
   "execution_count": null,
   "metadata": {},
   "outputs": [],
   "source": []
  }
 ],
 "metadata": {
  "kernelspec": {
   "display_name": "Python 3",
   "language": "python",
   "name": "python3"
  },
  "language_info": {
   "codemirror_mode": {
    "name": "ipython",
    "version": 3
   },
   "file_extension": ".py",
   "mimetype": "text/x-python",
   "name": "python",
   "nbconvert_exporter": "python",
   "pygments_lexer": "ipython3",
   "version": "3.8.3"
  }
 },
 "nbformat": 4,
 "nbformat_minor": 2
}
