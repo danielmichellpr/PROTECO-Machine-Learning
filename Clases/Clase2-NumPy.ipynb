{
 "cells": [
  {
   "cell_type": "markdown",
   "metadata": {},
   "source": [
    "# Clase 2\n",
    "# NumPy"
   ]
  },
  {
   "cell_type": "code",
   "execution_count": 1,
   "metadata": {},
   "outputs": [],
   "source": [
    "import numpy as np"
   ]
  },
  {
   "cell_type": "code",
   "execution_count": 2,
   "metadata": {},
   "outputs": [
    {
     "name": "stdout",
     "output_type": "stream",
     "text": [
      "[1 2 3 4 5]\n",
      "<class 'numpy.ndarray'>\n",
      "int32\n"
     ]
    }
   ],
   "source": [
    "arr = np.array([1,2,3,4,5]) #Crear arreglo \n",
    "#Recibe una lista o tupla y puede ser anidada\n",
    "print(arr)\n",
    "\n",
    "print(type(arr))\n",
    "print(arr.dtype)"
   ]
  },
  {
   "cell_type": "markdown",
   "metadata": {},
   "source": [
    "### Crear arreglos de varias dimensiones"
   ]
  },
  {
   "cell_type": "code",
   "execution_count": 3,
   "metadata": {},
   "outputs": [
    {
     "name": "stdout",
     "output_type": "stream",
     "text": [
      "[[[ 1  2  3]\n",
      "  [ 4  5  6]]\n",
      "\n",
      " [[ 7  8  9]\n",
      "  [10 11 12]]]\n",
      "0\n",
      "1\n",
      "2\n",
      "3\n",
      "[[[[[1 2 3 4]]]]]\n"
     ]
    }
   ],
   "source": [
    "#Dimensión 2 - Número\n",
    "cero = np.array(42) \n",
    "\n",
    "#Dimensión 1 - Lista\n",
    "uno = np.array([1,2,3,4,5])\n",
    "\n",
    "#Dimesión 2 - Lista anidada\n",
    "dos = np.array([[1,2,3],[4,5,6]])\n",
    "#print(dos)\n",
    "\n",
    "#Dimensión 3 - Lista de listas anidadas\n",
    "tres = np.array([[[1,2,3],[4,5,6]],[[7,8,9],[10,11,12]]])\n",
    "print(tres)\n",
    "\n",
    "#Imprimir dimensiones\n",
    "print(cero.ndim)\n",
    "print(uno.ndim)\n",
    "print(dos.ndim)\n",
    "print(tres.ndim)\n",
    "\n",
    "#Dimenssión n=5\n",
    "cinco = np.array([1,2,3,4],ndmin=5)\n",
    "print(cinco)\n",
    "\n"
   ]
  },
  {
   "cell_type": "markdown",
   "metadata": {},
   "source": [
    "### Localizar elementos en los arrays y un rango de datos"
   ]
  },
  {
   "cell_type": "code",
   "execution_count": 4,
   "metadata": {},
   "outputs": [
    {
     "name": "stdout",
     "output_type": "stream",
     "text": [
      "1\n",
      "[[4 5 6]]\n",
      "[4 5 6]\n",
      "12\n"
     ]
    }
   ],
   "source": [
    "print(uno[0])\n",
    "print(dos[1:])      #Si no pongo la coma me pondrá las dos listas\n",
    "print(tres[0,1,:])\n",
    "\n",
    "print(tres[1,1,2])"
   ]
  },
  {
   "cell_type": "code",
   "execution_count": 5,
   "metadata": {},
   "outputs": [
    {
     "name": "stdout",
     "output_type": "stream",
     "text": [
      "[2 3 4]\n",
      "[2 3 4 5]\n",
      "[1 2 3 4]\n",
      "[3 4]\n",
      "[2 4]\n"
     ]
    }
   ],
   "source": [
    "print(uno[1:4])   #El primero se incluye y el segundo se excluye\n",
    "print(uno[1:])    #Hasta el final, desde el número que colocamos\n",
    "print(uno[:4])    #Desde el principio, hasta el elemento menor antes del colocado\n",
    "print(uno[-3:-1]) #Desde la menos 3 hasta uno antes de la menos 1\n",
    "print(uno[1:4:2]) #PASO: Desde donde lo quiero y con que paso lo quiero, es el último parámetro"
   ]
  },
  {
   "cell_type": "code",
   "execution_count": 6,
   "metadata": {},
   "outputs": [
    {
     "name": "stdout",
     "output_type": "stream",
     "text": [
      "[4]\n",
      "[2 5]\n"
     ]
    }
   ],
   "source": [
    "print(dos[1,0:2:2])  #Esto se expande para más dimensiones: De la lista dos, ve de 0 a 2 en pasos de 2 \n",
    "\n",
    "dosnuevo = np.array([[1,2,3],[4,5,6],[7,8,9]])\n",
    "print(dos[0:2,1])"
   ]
  },
  {
   "cell_type": "markdown",
   "metadata": {},
   "source": [
    "### Cambiar los tipos de datos, copy(), shape(), size() & reshape()"
   ]
  },
  {
   "cell_type": "code",
   "execution_count": 7,
   "metadata": {},
   "outputs": [
    {
     "name": "stdout",
     "output_type": "stream",
     "text": [
      "<U8\n",
      "float64\n",
      "|S1\n",
      "[b'1' b'2' b'3' b'4']\n"
     ]
    }
   ],
   "source": [
    "cadena = np.array(['lechuga','espinaca','brocoli'])\n",
    "print(cadena.dtype)\n",
    "#Unicof\n",
    "\n",
    "flotante = np.array([1.2456,24.5642,654,3567])\n",
    "print(flotante.dtype)\n",
    "#flotante\n",
    "\n",
    "#S, i,f\n",
    "\n",
    "#Convertir datos, NO es la opción recomendada, por qué pueden salir cosas raras\n",
    "cadena_dos=np.array([1,2,3,4],dtype='S')\n",
    "print(cadena_dos.dtype)\n",
    "print(cadena_dos)\n"
   ]
  },
  {
   "cell_type": "code",
   "execution_count": 8,
   "metadata": {},
   "outputs": [
    {
     "name": "stdout",
     "output_type": "stream",
     "text": [
      "[   1   24  654 3567]\n"
     ]
    }
   ],
   "source": [
    "#Método astype() Método recomendado\n",
    "entero = flotante.astype(int) #Igual se puede poner 'i'\n",
    "entero = flotante.astype('i')\n",
    "print(entero)"
   ]
  },
  {
   "cell_type": "code",
   "execution_count": 9,
   "metadata": {},
   "outputs": [
    {
     "name": "stdout",
     "output_type": "stream",
     "text": [
      "[   1   24  654 3567]\n",
      "[10000    24   654  3567]\n"
     ]
    }
   ],
   "source": [
    "#Copiar copy()\n",
    "copia = entero.copy()\n",
    "copia[0] = 10000    #Remplazamos un elemento de la copia\n",
    "\n",
    "print(entero)\n",
    "print(copia)"
   ]
  },
  {
   "cell_type": "code",
   "execution_count": 10,
   "metadata": {},
   "outputs": [
    {
     "name": "stdout",
     "output_type": "stream",
     "text": [
      "(3, 3)\n",
      "9\n",
      "(2, 2, 3)\n",
      "[10000     2     3     4     5     6     7     8     9    10    11    12]\n",
      "[[10000     2     3]\n",
      " [    4     5     6]\n",
      " [    7     8     9]\n",
      " [   10    11    12]]\n"
     ]
    }
   ],
   "source": [
    "#Conocer la forma y tamaño de los elementos\n",
    "print(dosnuevo.shape)   #Forma\n",
    "print(dosnuevo.size)    #Tamaño\n",
    "print(tres.shape)\n",
    "\n",
    "#Reshape() . Cambiar la forma\n",
    "arreglo = np.array([1,2,3,4,5,6,7,8,9,10,11,12])\n",
    "nuevo_arreglo = arreglo.reshape(4,3)\n",
    "#print(nuevo_arreglo)\n",
    "\n",
    "\n",
    "#No se crea una copia, si se modifica el arreglo nuevo, se modifica el anterior\n",
    "#Se debe crear una copia primero y luego modifcar esa, para no modificar el original\n",
    "nuevo_arreglo[0,0] = 10000\n",
    "print(arreglo)\n",
    "print(nuevo_arreglo)\n"
   ]
  },
  {
   "cell_type": "markdown",
   "metadata": {},
   "source": [
    "### Iterar arreglos"
   ]
  },
  {
   "cell_type": "code",
   "execution_count": 11,
   "metadata": {},
   "outputs": [
    {
     "name": "stdout",
     "output_type": "stream",
     "text": [
      "1\n",
      "2\n",
      "3\n"
     ]
    }
   ],
   "source": [
    "#Iterando arreglos\n",
    "\n",
    "arreglo = np.array([1,2,3])\n",
    "\n",
    "for x in arreglo:\n",
    "    print(x)"
   ]
  },
  {
   "cell_type": "code",
   "execution_count": 12,
   "metadata": {},
   "outputs": [
    {
     "name": "stdout",
     "output_type": "stream",
     "text": [
      "1\n",
      "2\n",
      "3\n",
      "4\n",
      "[1 2]\n",
      "[3 4]\n",
      "1\n",
      "2\n",
      "3\n",
      "4\n"
     ]
    }
   ],
   "source": [
    "arreglo = np.array([[1,2],[3,4]])\n",
    "\n",
    "#Imprime elemento por elemento\n",
    "for x in arreglo:\n",
    "    for y in x:\n",
    "        print(y)\n",
    "\n",
    "#Imprime las listas \n",
    "for x in arreglo:\n",
    "    print(x)\n",
    "    \n",
    "\n",
    "#nditer() Iterador de n dimensiones\n",
    "for x in np.nditer(arreglo):\n",
    "    print(x)"
   ]
  },
  {
   "cell_type": "markdown",
   "metadata": {},
   "source": [
    "## Métodos de Numpy\n",
    "\n",
    "### hstack()     \"Apilar de manera horizantal\"\n",
    "### vstack()     \"Apilar de manera vertical\""
   ]
  },
  {
   "cell_type": "code",
   "execution_count": 13,
   "metadata": {},
   "outputs": [
    {
     "name": "stdout",
     "output_type": "stream",
     "text": [
      "[1 2 3 4 5 6]\n",
      "[[1 2 3]\n",
      " [4 5 6]]\n"
     ]
    }
   ],
   "source": [
    "#Fusionan arreglos\n",
    "\n",
    "arr1 = np.array([1,2,3])\n",
    "arr2 = np.array([4,5,6])\n",
    "horizontal = np.hstack((arr1,arr2))\n",
    "vertical = np.vstack((arr1,arr2))\n",
    "\n",
    "print(horizontal)\n",
    "print(vertical)"
   ]
  },
  {
   "cell_type": "markdown",
   "metadata": {},
   "source": [
    "### Random"
   ]
  },
  {
   "cell_type": "code",
   "execution_count": 14,
   "metadata": {},
   "outputs": [
    {
     "name": "stdout",
     "output_type": "stream",
     "text": [
      "42\n",
      "0.9761091663559225\n",
      "-1.0386339400968219\n",
      "[[0.70827545 0.20273224 0.69816097]\n",
      " [0.48728888 0.02655384 0.46631544]\n",
      " [0.91107217 0.8210371  0.40842875]]\n",
      "[[ 6 79  5]\n",
      " [48 14 24]\n",
      " [78 61 37]]\n",
      "[0.9587071  0.51323253]\n"
     ]
    }
   ],
   "source": [
    "from numpy import random #Aleatorio\n",
    "\n",
    "x= random.randint(100) #Entero aleatorio\n",
    "print(x)\n",
    "\n",
    "x = random.rand() #Elemento aletorio, entre 0 y 1, si le pongo número me me pone un arreglo de ese tamaño\n",
    "print(x)\n",
    "\n",
    "x =random.randn() #Aleatorio entre -1 y 1\n",
    "print(x)\n",
    "\n",
    "x= random.rand(3,3) #Matriz 3x3 aleatoria\n",
    "print(x)\n",
    "\n",
    "\n",
    "x=random.randint(100,size= (3,3))\n",
    "print(x)\n",
    "\n",
    "x=random.random(2)\n",
    "print(x)"
   ]
  },
  {
   "cell_type": "markdown",
   "metadata": {},
   "source": [
    "### Arrange, Linspace, Mean y más funciones de NumPy"
   ]
  },
  {
   "cell_type": "code",
   "execution_count": 15,
   "metadata": {},
   "outputs": [
    {
     "name": "stdout",
     "output_type": "stream",
     "text": [
      "[ 5  7  9 11 13 15]\n",
      "[10. 15. 20. 25. 30. 35. 40.]\n",
      "10.0\n",
      "1.4719396259098785\n",
      "[[1 1 1]\n",
      " [1 1 1]\n",
      " [1 1 1]]\n",
      "[[0 0 0 0]\n",
      " [0 0 0 0]\n",
      " [0 0 0 0]\n",
      " [0 0 0 0]]\n",
      "[2. 3. 4.]\n",
      "[[-2118706590  1072606650]\n",
      " [-1616385289  1071672422]]\n",
      "[[8 8 8]\n",
      " [8 8 8]\n",
      " [8 8 8]]\n",
      "[[1 2 3]\n",
      " [1 2 3]\n",
      " [1 2 3]]\n",
      "9\n",
      "1\n"
     ]
    }
   ],
   "source": [
    "#ARRANGE\n",
    "arr1 = np.arange(5,16,2) #Inicio, fin, paso\n",
    "print(arr1)\n",
    "\n",
    "#LINSPACE\n",
    "arr = np.linspace(10,40,num=7) #Inicio, fin y división\n",
    "print(arr)\n",
    "\n",
    "#MEDIA\n",
    "media = np.mean(arr1)        #Te saca la media del arreglo\n",
    "print(media)\n",
    "\n",
    "#SUMA\n",
    "suma = np.sum(x)\n",
    "print(suma)\n",
    "\n",
    "\n",
    "#ONES (UNOS)\n",
    "arr = np.ones((3,3),dtype=int)\n",
    "print(arr)\n",
    "\n",
    "\n",
    "#ZEROS (CEROS)\n",
    "arr = np.zeros((4,4),dtype=int)\n",
    "print(arr)\n",
    "\n",
    "\n",
    "#SQRT (Square root = raíz cuadrada)\n",
    "arr = np.array([4,9,16])\n",
    "raiz = np.sqrt(arr)\n",
    "print(raiz)\n",
    "\n",
    "\n",
    "#EMPTY (VACÍO) Para guardar locaciones de memoria\n",
    "arr_empty = np.empty([2,2],dtype=int)\n",
    "print(arr_empty)\n",
    "\n",
    "\n",
    "#FULL (COMPLETO)\n",
    "arr = np.full((3,3),8)\n",
    "print(arr)\n",
    "arr = np.full((3,3),[1,2,3])\n",
    "print(arr)\n",
    "\n",
    "\n",
    "#Max y min\n",
    "z=[[1,2,3],[4,5,6],[7,8,9]]\n",
    "maximo = np.amax(z)\n",
    "minimo = np.amin(z)\n",
    "print(maximo)\n",
    "print(minimo)\n",
    "\n",
    "\n"
   ]
  }
 ],
 "metadata": {
  "kernelspec": {
   "display_name": "Python 3",
   "language": "python",
   "name": "python3"
  },
  "language_info": {
   "codemirror_mode": {
    "name": "ipython",
    "version": 3
   },
   "file_extension": ".py",
   "mimetype": "text/x-python",
   "name": "python",
   "nbconvert_exporter": "python",
   "pygments_lexer": "ipython3",
   "version": "3.8.3"
  }
 },
 "nbformat": 4,
 "nbformat_minor": 2
}
