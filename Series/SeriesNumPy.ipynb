{
 "cells": [
  {
   "cell_type": "markdown",
   "metadata": {},
   "source": [
    "# Daniel Michell Pérez Ruiz - Machine Learning I\n",
    "###  Series Numpy"
   ]
  },
  {
   "cell_type": "code",
   "execution_count": 1,
   "metadata": {},
   "outputs": [],
   "source": [
    "#Importamos la paquetería/modulo que vamos a utilizar\n",
    "import numpy as np"
   ]
  },
  {
   "cell_type": "markdown",
   "metadata": {},
   "source": [
    "1) Crea un array de sietes cuyo atributo shape sea (10,3,2)"
   ]
  },
  {
   "cell_type": "code",
   "execution_count": 2,
   "metadata": {},
   "outputs": [
    {
     "name": "stdout",
     "output_type": "stream",
     "text": [
      "[[[7. 7.]\n",
      "  [7. 7.]\n",
      "  [7. 7.]]\n",
      "\n",
      " [[7. 7.]\n",
      "  [7. 7.]\n",
      "  [7. 7.]]\n",
      "\n",
      " [[7. 7.]\n",
      "  [7. 7.]\n",
      "  [7. 7.]]\n",
      "\n",
      " [[7. 7.]\n",
      "  [7. 7.]\n",
      "  [7. 7.]]\n",
      "\n",
      " [[7. 7.]\n",
      "  [7. 7.]\n",
      "  [7. 7.]]\n",
      "\n",
      " [[7. 7.]\n",
      "  [7. 7.]\n",
      "  [7. 7.]]\n",
      "\n",
      " [[7. 7.]\n",
      "  [7. 7.]\n",
      "  [7. 7.]]\n",
      "\n",
      " [[7. 7.]\n",
      "  [7. 7.]\n",
      "  [7. 7.]]\n",
      "\n",
      " [[7. 7.]\n",
      "  [7. 7.]\n",
      "  [7. 7.]]\n",
      "\n",
      " [[7. 7.]\n",
      "  [7. 7.]\n",
      "  [7. 7.]]]\n"
     ]
    }
   ],
   "source": [
    "#Creamos un arreglo de arange, tal que contenga 10x3x2=60 elementos. \n",
    "s =(10,3,2)\n",
    "x = 7*np.ones(s)\n",
    "print(x)"
   ]
  },
  {
   "cell_type": "code",
   "execution_count": null,
   "metadata": {},
   "outputs": [],
   "source": []
  },
  {
   "cell_type": "markdown",
   "metadata": {},
   "source": [
    "2) De dicho array despliega cual es su dimensión, tamaño del arreglo, tamaño un sólo elemento y tipo de dato de los elementos del arreglo."
   ]
  },
  {
   "cell_type": "code",
   "execution_count": 3,
   "metadata": {},
   "outputs": [
    {
     "name": "stdout",
     "output_type": "stream",
     "text": [
      "(10, 3, 2)\n",
      "60\n",
      "1\n",
      "float64\n"
     ]
    }
   ],
   "source": [
    "print(x.shape)\n",
    "print(x.size)\n",
    "print(x[0,0,0].size)\n",
    "print(x.dtype)"
   ]
  },
  {
   "cell_type": "code",
   "execution_count": null,
   "metadata": {},
   "outputs": [],
   "source": []
  },
  {
   "cell_type": "markdown",
   "metadata": {},
   "source": [
    "3) Crea los siguientes vectores usando funciones de numpy\n",
    "\n",
    "    a) Enteros del 0 al 9: \n",
    "    b) 20 valores entre el 1 y 10 espaciados uniformemente: \n",
    "    c) Enteros del 1 al 10: \n",
    "    d) Enteros del 5 al 100 con incrementos de 5 en 5: "
   ]
  },
  {
   "cell_type": "code",
   "execution_count": 4,
   "metadata": {},
   "outputs": [
    {
     "name": "stdout",
     "output_type": "stream",
     "text": [
      "a) Enteros del 0 al 9: \n",
      "[0 1 2 3 4 5 6 7 8 9] \n",
      " \n",
      "\n",
      "b) 20 valores entre el 1 y 10 espaciados uniformemente:  \n",
      "[ 1.          1.47368421  1.94736842  2.42105263  2.89473684  3.36842105\n",
      "  3.84210526  4.31578947  4.78947368  5.26315789  5.73684211  6.21052632\n",
      "  6.68421053  7.15789474  7.63157895  8.10526316  8.57894737  9.05263158\n",
      "  9.52631579 10.        ] \n",
      " \n",
      "\n",
      "c) Enteros del 1 al 10:\n",
      "[ 1.  2.  3.  4.  5.  6.  7.  8.  9. 10.] \n",
      " \n",
      "\n",
      "d) Enteros del 5 al 100 con incrementos de 5 en 5: \n",
      "[  5  10  15  20  25  30  35  40  45  50  55  60  65  70  75  80  85  90\n",
      "  95 100] \n",
      " \n",
      "\n"
     ]
    }
   ],
   "source": [
    "#Podemos utilizar arange o linspace \n",
    "print('a) Enteros del 0 al 9: ')\n",
    "a=np.arange(0,10,1)\n",
    "print(a,'\\n \\n')\n",
    "\n",
    "\n",
    "print('b) 20 valores entre el 1 y 10 espaciados uniformemente:  ')\n",
    "b=np.linspace(1,10,20)\n",
    "print(b,'\\n \\n')\n",
    "\n",
    "print('c) Enteros del 1 al 10:' )\n",
    "c=np.linspace(1,10,10)\n",
    "print(c,'\\n \\n')\n",
    "\n",
    "print('d) Enteros del 5 al 100 con incrementos de 5 en 5: ')\n",
    "d=np.arange(5,101,5)\n",
    "print(d,'\\n \\n')"
   ]
  },
  {
   "cell_type": "code",
   "execution_count": null,
   "metadata": {},
   "outputs": [],
   "source": []
  },
  {
   "cell_type": "markdown",
   "metadata": {},
   "source": [
    "4) Usaremos el vector del inciso d, despliega:\n",
    "\n",
    "       a) Todos los elementos menos el primero.\n",
    "       b) Todos los elementos menos el último.\n",
    "       c) Todos los elementos en sentido inverso\n",
    "       d) Un elemento sí y un elemento no\n",
    "       e) Elemento número 15"
   ]
  },
  {
   "cell_type": "code",
   "execution_count": 5,
   "metadata": {},
   "outputs": [
    {
     "name": "stdout",
     "output_type": "stream",
     "text": [
      " a) Todos los elementos menos el primero. \n",
      "[ 10  15  20  25  30  35  40  45  50  55  60  65  70  75  80  85  90  95\n",
      " 100] \n",
      " \n",
      "\n",
      " b) Todos los elementos menos el último.\n",
      "[ 5 10 15 20 25 30 35 40 45 50 55 60 65 70 75 80 85 90 95] \n",
      " \n",
      "\n",
      "c) Todos los elementos en sentido inverso\n",
      "[100  95  90  85  80  75  70  65  60  55  50  45  40  35  30  25  20  15\n",
      "  10   5] \n",
      " \n",
      "\n",
      "d) Un elemento sí y un elemento no\n",
      "[ 5 15 25 35 45 55 65 75 85 95] \n",
      " \n",
      "\n",
      "e) Elemento número 15\n",
      "15\n"
     ]
    }
   ],
   "source": [
    "#[Inicio : fin : paso]\n",
    "#a)\n",
    "print(' a) Todos los elementos menos el primero. ')\n",
    "print(d[1:], '\\n \\n')\n",
    "\n",
    "#b)\n",
    "print(' b) Todos los elementos menos el último.')\n",
    "print(d[:-1], '\\n \\n')\n",
    "\n",
    "#c) #Vamos de reversa, esa es la forma de ponerlo, un slice \n",
    "print('c) Todos los elementos en sentido inverso')\n",
    "print(d[::-1], '\\n \\n')\n",
    "\n",
    "#d) Un elemento sí y uno no\n",
    "print('d) Un elemento sí y un elemento no')\n",
    "print(d[::2], '\\n \\n')\n",
    "\n",
    "#e)\n",
    "print('e) Elemento número 15')\n",
    "print(d[2])"
   ]
  },
  {
   "cell_type": "code",
   "execution_count": null,
   "metadata": {},
   "outputs": [],
   "source": []
  },
  {
   "cell_type": "markdown",
   "metadata": {},
   "source": [
    "5) Haz un vector de número aleatorios entre 0 y 1"
   ]
  },
  {
   "cell_type": "code",
   "execution_count": 6,
   "metadata": {},
   "outputs": [
    {
     "name": "stdout",
     "output_type": "stream",
     "text": [
      "[0.51173056 0.71941017 0.80356068 0.93508616 0.25733947 0.71789783\n",
      " 0.65877355 0.34826731 0.83088404 0.10444687]\n"
     ]
    }
   ],
   "source": [
    "aleatorio = np.random.rand(10)\n",
    "print(aleatorio)"
   ]
  },
  {
   "cell_type": "code",
   "execution_count": null,
   "metadata": {},
   "outputs": [],
   "source": []
  },
  {
   "cell_type": "raw",
   "metadata": {},
   "source": [
    " 6) Elabora una función que reciba número de filas y columnas y regrese un arreglo con dicho tamaño, con una distribución de 0 y 1 como tablero de ajedrez\n",
    "\n",
    "Ejemplo: [In]: (3,6)  [Out]: array([[1., 0., 1., 0., 1., 0.],\n",
    "                                   [0., 1., 0., 1., 0., 1.],\n",
    "                                   [1., 0., 1., 0., 1., 0.]])"
   ]
  },
  {
   "cell_type": "code",
   "execution_count": 7,
   "metadata": {},
   "outputs": [
    {
     "name": "stdout",
     "output_type": "stream",
     "text": [
      "Dime el número de filas de la matriz: 5\n",
      "Dime el número de columnas de la matriz: 7\n",
      "[[1. 0. 1. 0. 1. 0. 1.]\n",
      " [0. 1. 0. 1. 0. 1. 0.]\n",
      " [1. 0. 1. 0. 1. 0. 1.]\n",
      " [0. 1. 0. 1. 0. 1. 0.]\n",
      " [1. 0. 1. 0. 1. 0. 1.]]\n"
     ]
    }
   ],
   "source": [
    "def ajedrez(x,y):\n",
    "    M = np.zeros((x,y))\n",
    "    for i in range(x):\n",
    "        for j in range(y):\n",
    "            if i%2 == 0 and j%2 ==0 :\n",
    "            #if i == j+0 or i == j+2 or i+2 == j or i == j+4 or i+4 == j: #De aquí me vino la idea jejeje\n",
    "                M[i][j] = 1\n",
    "            elif (i+1)%2 == 0 and (j+1)%2 == 0:\n",
    "                M[i][j] = 1\n",
    "            else:\n",
    "                M[i][j] = 0\n",
    "    return M\n",
    "\n",
    "\n",
    "x = int(input('Dime el número de filas de la matriz: '))\n",
    "y = int(input('Dime el número de columnas de la matriz: '))    \n",
    "\n",
    "z = ajedrez(x,y)\n",
    "print(z)"
   ]
  },
  {
   "cell_type": "code",
   "execution_count": null,
   "metadata": {},
   "outputs": [],
   "source": []
  },
  {
   "cell_type": "markdown",
   "metadata": {},
   "source": [
    "7) Realiza una función que encuentre el valor máximo y mínimo un arreglo 3x3 ."
   ]
  },
  {
   "cell_type": "code",
   "execution_count": 8,
   "metadata": {},
   "outputs": [
    {
     "name": "stdout",
     "output_type": "stream",
     "text": [
      "Ingresa el elemento a11 de la matriz: 1\n",
      "Ingresa el elemento a12 de la matriz: 2\n",
      "Ingresa el elemento a13 de la matriz: 3\n",
      "Ingresa el elemento a21 de la matriz: 4\n",
      "Ingresa el elemento a22 de la matriz: 5\n",
      "Ingresa el elemento a23 de la matriz: 6\n",
      "Ingresa el elemento a31 de la matriz: 7\n",
      "Ingresa el elemento a32 de la matriz: 8\n",
      "Ingresa el elemento a33 de la matriz: 9\n",
      "[[1. 2. 3.]\n",
      " [4. 5. 6.]\n",
      " [7. 8. 9.]]\n",
      "El valor máximo y mínimo de la matriz es:  (9.0, 1.0)\n"
     ]
    }
   ],
   "source": [
    "def maxmin(A):\n",
    "    return np.max(A), np.min(A)\n",
    "\n",
    "a11 = float(input('Ingresa el elemento a11 de la matriz: '))\n",
    "a12 = float(input('Ingresa el elemento a12 de la matriz: '))\n",
    "a13 = float(input('Ingresa el elemento a13 de la matriz: '))\n",
    "a21 = float(input('Ingresa el elemento a21 de la matriz: '))\n",
    "a22 = float(input('Ingresa el elemento a22 de la matriz: '))\n",
    "a23 = float(input('Ingresa el elemento a23 de la matriz: '))\n",
    "a31 = float(input('Ingresa el elemento a31 de la matriz: '))\n",
    "a32 = float(input('Ingresa el elemento a32 de la matriz: '))\n",
    "a33 = float(input('Ingresa el elemento a33 de la matriz: '))\n",
    "A= np.array([[a11,a12,a13],[a21,a22,a23],[a31,a32,a33]])\n",
    "print(A)\n",
    "print('El valor máximo y mínimo de la matriz es: ', maxmin(A))    \n"
   ]
  },
  {
   "cell_type": "code",
   "execution_count": null,
   "metadata": {},
   "outputs": [],
   "source": []
  },
  {
   "cell_type": "markdown",
   "metadata": {},
   "source": [
    "9) Implementa una función que encuentre el valor máximo en un arreglo 3x3 y regrese la posición de dicho valor (r,c)"
   ]
  },
  {
   "cell_type": "code",
   "execution_count": 23,
   "metadata": {},
   "outputs": [
    {
     "name": "stdout",
     "output_type": "stream",
     "text": [
      "Ingresa el elemento a11 de la matriz: 1\n",
      "Ingresa el elemento a12 de la matriz: 2\n",
      "Ingresa el elemento a13 de la matriz: 3\n",
      "Ingresa el elemento a21 de la matriz: 4\n",
      "Ingresa el elemento a22 de la matriz: 5\n",
      "Ingresa el elemento a23 de la matriz: 6\n",
      "Ingresa el elemento a31 de la matriz: 7\n",
      "Ingresa el elemento a32 de la matriz: 8\n",
      "Ingresa el elemento a33 de la matriz: 9\n",
      "[[1. 2. 3.]\n",
      " [4. 5. 6.]\n",
      " [7. 8. 9.]]\n",
      "El valor máximo de la matriz es:  9.0 el cual se encuentra en la posición (3, 3)\n"
     ]
    }
   ],
   "source": [
    "def valormax(A):\n",
    "    return np.max(A)\n",
    "\n",
    "a11 = float(input('Ingresa el elemento a11 de la matriz: '))\n",
    "a12 = float(input('Ingresa el elemento a12 de la matriz: '))\n",
    "a13 = float(input('Ingresa el elemento a13 de la matriz: '))\n",
    "a21 = float(input('Ingresa el elemento a21 de la matriz: '))\n",
    "a22 = float(input('Ingresa el elemento a22 de la matriz: '))\n",
    "a23 = float(input('Ingresa el elemento a23 de la matriz: '))\n",
    "a31 = float(input('Ingresa el elemento a31 de la matriz: '))\n",
    "a32 = float(input('Ingresa el elemento a32 de la matriz: '))\n",
    "a33 = float(input('Ingresa el elemento a33 de la matriz: '))\n",
    "A= np.array([[a11,a12,a13],[a21,a22,a23],[a31,a32,a33]])\n",
    "print(A)\n",
    "print('El valor máximo de la matriz es: ', valormax(A),'el cual se encuentra en la posición',  (np.argmax(A)%len(A[0])+1,np.argmax(A)%len(A[0])+1) )\n",
    "#print('Recuerda que python cuenta desde el cero')\n"
   ]
  },
  {
   "cell_type": "code",
   "execution_count": null,
   "metadata": {},
   "outputs": [],
   "source": []
  },
  {
   "cell_type": "markdown",
   "metadata": {},
   "source": [
    "11) Haz una función que reciba dos vectores y realice el producto cruz de ellos."
   ]
  },
  {
   "cell_type": "code",
   "execution_count": 10,
   "metadata": {},
   "outputs": [
    {
     "name": "stdout",
     "output_type": "stream",
     "text": [
      "Ingresa el primer elemento de la matriz A: 1\n",
      "Ingresa el segundo elemento de la matriz A: 2\n",
      "Ingresa el tercer elemento de la matriz A: 3\n",
      "Ingresa el primer elemento de la matriz B: 4\n",
      "Ingresa el segundo elemento de la matriz B: 5\n",
      "Ingresa el tercer elemento de la matriz B: 6\n",
      "El producto cruz entre los vectores es:  [-3.  6. -3.]\n"
     ]
    }
   ],
   "source": [
    "#El producto cruz se define para vectores de dimensionalidad (3,1), donde como resultado obtenemos otro vector de la misma dimensión\n",
    "def cruz(A,B):\n",
    "    return np.cross(A,B)\n",
    "\n",
    "a1 = float(input('Ingresa el primer elemento de la matriz A: '))\n",
    "a2 = float(input('Ingresa el segundo elemento de la matriz A: '))\n",
    "a3 = float(input('Ingresa el tercer elemento de la matriz A: '))\n",
    "b1 = float(input('Ingresa el primer elemento de la matriz B: '))\n",
    "b2 = float(input('Ingresa el segundo elemento de la matriz B: '))\n",
    "b3 = float(input('Ingresa el tercer elemento de la matriz B: '))\n",
    "A= np.array([a1,a2,a3])\n",
    "B= np.array([b1,b2,b3])\n",
    "\n",
    "print('El producto cruz entre los vectores es: ', cruz(A,B))"
   ]
  },
  {
   "cell_type": "code",
   "execution_count": null,
   "metadata": {},
   "outputs": [],
   "source": []
  },
  {
   "cell_type": "markdown",
   "metadata": {},
   "source": [
    "12) Realiza otro vector que sea un paso por valor de un vector y comprueba que no es un paso por referencia. Explica cuál es la diferencia."
   ]
  },
  {
   "cell_type": "code",
   "execution_count": 11,
   "metadata": {},
   "outputs": [
    {
     "name": "stdout",
     "output_type": "stream",
     "text": [
      "[10 20 30]\n"
     ]
    }
   ],
   "source": [
    "#Vector por valor\n",
    "#Iniciamos el vector x y se la pasamos a funcion(). Dentro de la función hacemos que la variable valga un vector cero\n",
    "#Dado que Python trata a los int como pasados por valor, dentro de la función se crea una copia local de x, \n",
    "#por lo que la variable original no es modificada.\n",
    "\n",
    "x = np.array([10,20,30])\n",
    "def funcion(entrada):\n",
    "    entrada = np.array([0,0,0])\n",
    "funcion(x)\n",
    "\n",
    "print(x) "
   ]
  },
  {
   "cell_type": "code",
   "execution_count": null,
   "metadata": {},
   "outputs": [],
   "source": []
  },
  {
   "cell_type": "markdown",
   "metadata": {},
   "source": [
    "13) Realiza una función que reciba una matriz un número n y genere una matriz identidad de nxn\n",
    "\n",
    "NOTA: No se puede usar la función identity de python, debe ser desde scratch\n"
   ]
  },
  {
   "cell_type": "raw",
   "metadata": {},
   "source": [
    " \n",
    " [[1., 0., 0.],\n",
    "  [0., 1., 0.],\n",
    " [0., 0., 1.]]\n",
    " "
   ]
  },
  {
   "cell_type": "code",
   "execution_count": 12,
   "metadata": {},
   "outputs": [
    {
     "name": "stdout",
     "output_type": "stream",
     "text": [
      "Introduce el tamaño de la matriz identidad: 7\n"
     ]
    },
    {
     "data": {
      "text/plain": [
       "[[1, 0, 0, 0, 0, 0, 0],\n",
       " [0, 1, 0, 0, 0, 0, 0],\n",
       " [0, 0, 1, 0, 0, 0, 0],\n",
       " [0, 0, 0, 1, 0, 0, 0],\n",
       " [0, 0, 0, 0, 1, 0, 0],\n",
       " [0, 0, 0, 0, 0, 1, 0],\n",
       " [0, 0, 0, 0, 0, 0, 1]]"
      ]
     },
     "execution_count": 12,
     "metadata": {},
     "output_type": "execute_result"
    }
   ],
   "source": [
    " def identidad(n):\n",
    "    #Creamos una matriz sobre la cual se vaya iterando\n",
    "    I = [[1 if i==j else 0 for j in range(n)] for i in range(n)]\n",
    "    return I\n",
    "            \n",
    "\n",
    "    \n",
    "n= int(input('Introduce el tamaño de la matriz identidad: '))\n",
    "identidad(n)\n"
   ]
  },
  {
   "cell_type": "code",
   "execution_count": null,
   "metadata": {},
   "outputs": [],
   "source": []
  },
  {
   "cell_type": "markdown",
   "metadata": {},
   "source": [
    "14) Escribe una función que reciba una matriz y regrese True sí es una matriz identidad y un False si no es así"
   ]
  },
  {
   "cell_type": "raw",
   "metadata": {},
   "source": [
    " \n",
    "   Ejemplo: [In]:[[1., 0., 0., 0.],                  [Out]: True\n",
    "                   [0., 1., 0., 0.],\n",
    "                   [0., 0., 1., 0.],\n",
    "                   [0., 0., 0., 1.]]\n",
    "                    "
   ]
  },
  {
   "cell_type": "code",
   "execution_count": 13,
   "metadata": {},
   "outputs": [
    {
     "name": "stdout",
     "output_type": "stream",
     "text": [
      "De que dimensión es tu matriz: 4\n",
      "La matriz que introdujiste es:  False\n"
     ]
    }
   ],
   "source": [
    "def identidad():\n",
    "    if  (M== np.identity(x)).all():\n",
    "        return True\n",
    "    else:\n",
    "        return False\n",
    "\n",
    "M = np.array([[1,0,0,0],[0,1,0,0],[0,0,1,0],[1,0,1,0]])\n",
    "x=int(input('De que dimensión es tu matriz: '))\n",
    "print('La matriz que introdujiste es: ', identidad())\n",
    "\n"
   ]
  },
  {
   "cell_type": "code",
   "execution_count": 24,
   "metadata": {},
   "outputs": [
    {
     "name": "stdout",
     "output_type": "stream",
     "text": [
      "De que dimensión es tu matriz: 4\n",
      "La matriz que introdujiste es:  True\n"
     ]
    }
   ],
   "source": [
    "M = np.array([[1,0,0,0],[0,1,0,0],[0,0,1,0],[0,0,0,1]])\n",
    "x=int(input('De que dimensión es tu matriz: '))\n",
    "print('La matriz que introdujiste es: ', identidad())\n"
   ]
  },
  {
   "cell_type": "code",
   "execution_count": null,
   "metadata": {},
   "outputs": [],
   "source": []
  },
  {
   "cell_type": "markdown",
   "metadata": {},
   "source": [
    "15) Teniendo los siguientes vectores:\n",
    "HINT: vstack, hstack"
   ]
  },
  {
   "cell_type": "code",
   "execution_count": 15,
   "metadata": {},
   "outputs": [
    {
     "name": "stdout",
     "output_type": "stream",
     "text": [
      "##### Inciso a) #####\n",
      "[[1 2]\n",
      " [3 4]]\n",
      "##### Inciso b) #####\n",
      "[[1 2 3 4]\n",
      " [5 6 7 8]\n",
      " [1 2 3 4]\n",
      " [5 6 7 8]]\n",
      "##### Inciso c) #####\n",
      "[[1 2 3 4 1 2 3 4]\n",
      " [5 6 7 8 5 6 7 8]\n",
      " [1 2 3 4 1 2 3 4]\n",
      " [5 6 7 8 5 6 7 8]]\n",
      "##### Inciso d) #####\n",
      "[[1 2 3 4 1 2 3 4]\n",
      " [5 6 7 8 5 6 7 8]\n",
      " [1 2 3 4 1 2 3 4]\n",
      " [5 6 7 8 5 6 7 8]\n",
      " [1 2 3 4 1 2 3 4]\n",
      " [5 6 7 8 5 6 7 8]\n",
      " [1 2 3 4 1 2 3 4]\n",
      " [5 6 7 8 5 6 7 8]]\n"
     ]
    }
   ],
   "source": [
    "vector1= np.array([1,2,3,4]) \n",
    "vector2= np.array([5,6,7,8])\n",
    "\n",
    "print('##### Inciso a) #####')\n",
    "a = vector1.reshape((2, 2))\n",
    "print(a)\n",
    "\n",
    "print('##### Inciso b) #####')\n",
    "b1 = np.array([vector1,vector2])\n",
    "b2 = np.vstack((b1,vector1,vector2))\n",
    "print(b2)\n",
    "\n",
    "print('##### Inciso c) #####')\n",
    "c1 = np.hstack((vector1,vector1))\n",
    "c2 = np.array([c1, np.hstack((vector2,vector2)) ])\n",
    "c3 = np.vstack((c2,c2))\n",
    "print(c3)\n",
    "\n",
    "print('##### Inciso d) #####')\n",
    "d = np.vstack((c3,c3))\n",
    "print(d)"
   ]
  },
  {
   "cell_type": "code",
   "execution_count": null,
   "metadata": {},
   "outputs": [],
   "source": []
  },
  {
   "cell_type": "markdown",
   "metadata": {},
   "source": [
    "16) Haz una función que reciba una matriz y luego que te regrese una matriz donde te de un True si el elemento es mayor que 100 y False si es menor"
   ]
  },
  {
   "cell_type": "raw",
   "metadata": {},
   "source": [
    "\n",
    " Ejemplo:  [In]: [[15, 85, 103, 444, 150, 200, 35, 47],      \n",
    "                 [532, 476, 0, 1011, 50, 674, 5, 999],\n",
    "                 [985, 7, 99, 101, 1, 58, 300, 78],\n",
    "                 [750, 649, 86, 8, 505, 41, 745, 187]]\n",
    "\n",
    "          [Out]:  [[False, False,  True,  True,  True,  True, False, False],\n",
    "                   [ True,  True, False,  True, False,  True, False,  True],\n",
    "                   [ True, False, False,  True, False, False,  True, False],\n",
    "                   [ True,  True, False, False,  True, False,  True,  True]]\n"
   ]
  },
  {
   "cell_type": "code",
   "execution_count": 16,
   "metadata": {},
   "outputs": [
    {
     "data": {
      "text/plain": [
       "\"\\nA = np.array([[15, 85, 103, 444, 150, 200, 35, 47],\\n              [532, 476, 0, 1011, 50, 674, 5, 999],\\n              [985, 7, 99, 101, 1, 58, 300, 78],\\n              [750, 649, 86, 8, 505, 41, 745, 187]])\\nM = []\\nfor i in A:\\n    for j in i:\\n        if j >= 100:\\n            x = True\\n            M.append(x)\\n        else:\\n            x = False\\n            M.append(x)\\n\\n#cien(A)\\n\\ny = int(input('Cuántos renglones tiene tu matriz: '))\\nz = int(input('Cuántas columnas tiene tu matriz: '))\\n#MatrizVerdad()\\n#print(M)\\nMnew = np.array([M])\\nMnew2 = np.reshape(Mnew,(y,z))\\nprint(Mnew2)\\n\""
      ]
     },
     "execution_count": 16,
     "metadata": {},
     "output_type": "execute_result"
    }
   ],
   "source": [
    "'''\n",
    "A = np.array([[15, 85, 103, 444, 150, 200, 35, 47],\n",
    "              [532, 476, 0, 1011, 50, 674, 5, 999],\n",
    "              [985, 7, 99, 101, 1, 58, 300, 78],\n",
    "              [750, 649, 86, 8, 505, 41, 745, 187]])\n",
    "M = []\n",
    "for i in A:\n",
    "    for j in i:\n",
    "        if j >= 100:\n",
    "            x = True\n",
    "            M.append(x)\n",
    "        else:\n",
    "            x = False\n",
    "            M.append(x)\n",
    "\n",
    "#cien(A)\n",
    "\n",
    "y = int(input('Cuántos renglones tiene tu matriz: '))\n",
    "z = int(input('Cuántas columnas tiene tu matriz: '))\n",
    "#MatrizVerdad()\n",
    "#print(M)\n",
    "Mnew = np.array([M])\n",
    "Mnew2 = np.reshape(Mnew,(y,z))\n",
    "print(Mnew2)\n",
    "'''"
   ]
  },
  {
   "cell_type": "code",
   "execution_count": 17,
   "metadata": {},
   "outputs": [
    {
     "name": "stdout",
     "output_type": "stream",
     "text": [
      "Cuántos renglones tiene tu matriz: 4\n",
      "Cuántas columnas tiene tu matriz: 8\n",
      "[[False False  True  True  True  True False False]\n",
      " [ True  True False  True False  True False  True]\n",
      " [ True False False  True False False  True False]\n",
      " [ True  True False False  True False  True  True]]\n"
     ]
    }
   ],
   "source": [
    "\n",
    "def cien(A):\n",
    "    global N\n",
    "    N = []\n",
    "    for i in A:\n",
    "        for j in i:\n",
    "            if j >= 100:\n",
    "                N.append(True)\n",
    "            else:\n",
    "                N.append(False)\n",
    "\n",
    "\n",
    "A = np.array([[15, 85, 103, 444, 150, 200, 35, 47],\n",
    "              [532, 476, 0, 1011, 50, 674, 5, 999],\n",
    "              [985, 7, 99, 101, 1, 58, 300, 78],\n",
    "              [750, 649, 86, 8, 505, 41, 745, 187]])\n",
    "\n",
    " \n",
    "\n",
    "\n",
    "#MatrizVerdad()\n",
    "def cienreshape(x,y):\n",
    "    return np.reshape(N,(x,y))\n",
    "\n",
    "#Mnew2 = np.reshape(Mnew,(x,y))\n",
    "x = int(input('Cuántos renglones tiene tu matriz: '))\n",
    "y = int(input('Cuántas columnas tiene tu matriz: '))\n",
    "cien(A)\n",
    "Nnew= cienreshape(x,y)\n",
    "print(Nnew)\n"
   ]
  },
  {
   "cell_type": "code",
   "execution_count": null,
   "metadata": {},
   "outputs": [],
   "source": []
  },
  {
   "cell_type": "markdown",
   "metadata": {},
   "source": [
    "17) Realiza una función que reciba dos arreglos de una dimensión y regrese un arreglo con los valores que no tienen en común los dos arreglos"
   ]
  },
  {
   "cell_type": "raw",
   "metadata": {},
   "source": [
    "\n",
    "Ejemplo: [In] vector1= np.array([3,6,9,12,15])             [Out]: [2,3,4,8,9,10.15]\n",
    "              vector2= np.array([2,4,6,8,10,12])\n"
   ]
  },
  {
   "cell_type": "code",
   "execution_count": 18,
   "metadata": {},
   "outputs": [
    {
     "name": "stdout",
     "output_type": "stream",
     "text": [
      "[ 2  3  4  8  9 10 15]\n"
     ]
    }
   ],
   "source": [
    "#Se puede realizar asignando o no los valores a la función, a continuación se ejemplifican ambas\n",
    "def comun(x1,x2):\n",
    "    return set(x1).symmetric_difference(x2)\n",
    "\n",
    "\n",
    "\n",
    "#x1 = np.array([2,6,2,4,6,7,2,31,11,2,4,6,7,24])\n",
    "#x2 = np.array([3,2,4,5,6,5,7,8,3,1,4,7,4,10])\n",
    "\n",
    "x1= np.array([3,6,9,12,15])\n",
    "x2= np.array([2,4,6,8,10,12])\n",
    "x = comun(x1,x2)\n",
    "y = list(x)\n",
    "z = np.array(y)\n",
    "print(z)\n",
    "#print(type(y))"
   ]
  },
  {
   "cell_type": "code",
   "execution_count": 19,
   "metadata": {},
   "outputs": [
    {
     "name": "stdout",
     "output_type": "stream",
     "text": [
      "[ 2  3  4  8  9 10 15]\n"
     ]
    }
   ],
   "source": [
    "def comun():\n",
    "    return set(x1).symmetric_difference(x2)\n",
    "\n",
    "\n",
    "\n",
    "#x1 = np.array([2,6,2,4,6,7,2,31,11,2,4,6,7,24])\n",
    "#x2 = np.array([3,2,4,5,6,5,7,8,3,1,4,7,4,10])\n",
    "x1= np.array([3,6,9,12,15])\n",
    "x2= np.array([2,4,6,8,10,12])\n",
    "x = comun()\n",
    "y = list(x)\n",
    "z = np.array(y)\n",
    "print(z)\n",
    "#print(type(y))\n"
   ]
  },
  {
   "cell_type": "code",
   "execution_count": null,
   "metadata": {},
   "outputs": [],
   "source": []
  },
  {
   "cell_type": "markdown",
   "metadata": {},
   "source": [
    "18) Escribe una función que reciba un vector y regresé el promedio de todos los valores que hay en él."
   ]
  },
  {
   "cell_type": "code",
   "execution_count": 20,
   "metadata": {},
   "outputs": [
    {
     "data": {
      "text/plain": [
       "3.25"
      ]
     },
     "execution_count": 20,
     "metadata": {},
     "output_type": "execute_result"
    }
   ],
   "source": [
    "def promedio(A):\n",
    "    return np.mean(A)\n",
    "\n",
    "A =np.array([1,2,4,6])\n",
    "promedio(A)"
   ]
  },
  {
   "cell_type": "code",
   "execution_count": null,
   "metadata": {},
   "outputs": [],
   "source": []
  },
  {
   "cell_type": "markdown",
   "metadata": {},
   "source": [
    "19) Implementa una función que reciba un vector con valores entre el 1 y 10 que pueden o no estar repetidos y que te regrese un vector con los valores únicos (no repetidos) de el vector recibido."
   ]
  },
  {
   "cell_type": "raw",
   "metadata": {},
   "source": [
    "\n",
    "    Ejemplo: [In]: [1, 2, 2, 2, 3, 3, 4, 5, 5, 5, 6, 6, 7, 8, 8, 9, 9, 9, 10, 10]\n",
    "             [Out]: [1, 4, 7]\n"
   ]
  },
  {
   "cell_type": "code",
   "execution_count": 21,
   "metadata": {},
   "outputs": [
    {
     "data": {
      "text/plain": [
       "\"\\nvalores = [1,2,3,4,5,1,2,3,6,7,8,9,10,10,9,8]\\nrepetido = []\\nunico = []\\n \\nfor x in valores:\\n    if x not in unico:\\n        unico.append(x)\\n    else:\\n        if x not in repetido:\\n            repetido.append(x)\\n \\nprint('La lista con únicos es: ',unico)\\nprint('La lista con repetidos es: ',repetido)\\n\\n#unico_array = np.array([unico])\\n#repetido_array = np.array([repetido])\\n#unico_array.difference(repetido_array)\\nunico_verdadero = list(set(unico).difference(repetido))\\n#unico_verdadero =np.array([ set(unico).difference(repetido)])\\nunico_verdadero_new = np.array(unico_verdadero)\\nprint(unico_verdadero_new)\\n\\n\\n#print('La lista nueva es: ', unico)       \\n#array = np.array(unico)\\n#print(array)\\n#print(repetido)\\n\""
      ]
     },
     "execution_count": 21,
     "metadata": {},
     "output_type": "execute_result"
    }
   ],
   "source": [
    "'''\n",
    "valores = [1,2,3,4,5,1,2,3,6,7,8,9,10,10,9,8]\n",
    "repetido = []\n",
    "unico = []\n",
    " \n",
    "for x in valores:\n",
    "    if x not in unico:\n",
    "        unico.append(x)\n",
    "    else:\n",
    "        if x not in repetido:\n",
    "            repetido.append(x)\n",
    " \n",
    "print('La lista con únicos es: ',unico)\n",
    "print('La lista con repetidos es: ',repetido)\n",
    "\n",
    "#unico_array = np.array([unico])\n",
    "#repetido_array = np.array([repetido])\n",
    "#unico_array.difference(repetido_array)\n",
    "unico_verdadero = list(set(unico).difference(repetido))\n",
    "#unico_verdadero =np.array([ set(unico).difference(repetido)])\n",
    "unico_verdadero_new = np.array(unico_verdadero)\n",
    "print(unico_verdadero_new)\n",
    "\n",
    "\n",
    "#print('La lista nueva es: ', unico)       \n",
    "#array = np.array(unico)\n",
    "#print(array)\n",
    "#print(repetido)\n",
    "'''"
   ]
  },
  {
   "cell_type": "code",
   "execution_count": 25,
   "metadata": {},
   "outputs": [
    {
     "name": "stdout",
     "output_type": "stream",
     "text": [
      "[1, 4, 7]\n"
     ]
    }
   ],
   "source": [
    "def Unico():\n",
    "  global unico\n",
    "  unico = []\n",
    "  global repetido \n",
    "  repetido= []\n",
    "  for x in valores:\n",
    "    if x not in unico:\n",
    "      unico.append(x)\n",
    "      #print(unico)\n",
    "    else:\n",
    "      if x not in repetido:\n",
    "        repetido.append(x)\n",
    "\n",
    "\n",
    "#valores = [1,2,3,4,5,1,2,3,6,7,8,9,10,10,9,8]\n",
    "valores =[1, 2, 2, 2, 3, 3, 4, 5, 5, 5, 6, 6, 7, 8, 8, 9, 9, 9, 10, 10]\n",
    "Unico()\n",
    "unico_verdadero = list(set(unico).difference(repetido))\n",
    "#unico_verdadero_new = np.array(unico_verdadero)\n",
    "\n",
    "print(unico_verdadero)"
   ]
  },
  {
   "cell_type": "code",
   "execution_count": null,
   "metadata": {},
   "outputs": [],
   "source": []
  },
  {
   "cell_type": "markdown",
   "metadata": {},
   "source": [
    "20) En esta opción eres libre de poner cualquier función que use elementos y funciones de la librería numpy. Debes comentar que es lo que hace."
   ]
  },
  {
   "cell_type": "code",
   "execution_count": null,
   "metadata": {},
   "outputs": [],
   "source": [
    "\n"
   ]
  }
 ],
 "metadata": {
  "kernelspec": {
   "display_name": "Python 3",
   "language": "python",
   "name": "python3"
  },
  "language_info": {
   "codemirror_mode": {
    "name": "ipython",
    "version": 3
   },
   "file_extension": ".py",
   "mimetype": "text/x-python",
   "name": "python",
   "nbconvert_exporter": "python",
   "pygments_lexer": "ipython3",
   "version": "3.8.3"
  }
 },
 "nbformat": 4,
 "nbformat_minor": 2
}
